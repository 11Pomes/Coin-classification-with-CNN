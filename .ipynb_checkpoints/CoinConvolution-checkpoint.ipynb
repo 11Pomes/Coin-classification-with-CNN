{
 "cells": [
  {
   "cell_type": "code",
   "execution_count": 1,
   "metadata": {},
   "outputs": [],
   "source": [
    "import h5py    \n",
    "import numpy as np"
   ]
  },
  {
   "cell_type": "code",
   "execution_count": 19,
   "metadata": {},
   "outputs": [],
   "source": [
    "X_test = h5py.File('coins.h5','r')['X_test']\n",
    "X_train = h5py.File('coins.h5','r')['X_train']\n",
    "coins_index = h5py.File('coins.h5','r')['roman_coins']"
   ]
  },
  {
   "cell_type": "code",
   "execution_count": 32,
   "metadata": {},
   "outputs": [],
   "source": [
    "roman_coins = []\n",
    "for i in coins_index:\n",
    "    roman_coins += [i]"
   ]
  },
  {
   "cell_type": "code",
   "execution_count": 42,
   "metadata": {},
   "outputs": [
    {
     "name": "stdout",
     "output_type": "stream",
     "text": [
      "[1, 28, 38, 44, 50, 65, 107, 110, 121, 136, 173, 194, 199, 209, 212, 222, 226, 232, 235, 246, 295, 298, 308, 321, 339, 353, 363, 376, 391, 406, 407, 425, 428, 439, 461, 483, 491, 495, 497, 524, 554, 560, 569, 571, 585, 587, 600, 618, 644, 687, 697, 702, 752, 758, 759, 790, 798, 801, 804, 809, 815, 837, 839, 841, 849, 866, 872, 896, 902, 946, 963, 964, 1005, 1015, 1040, 1058, 1089, 1095, 1107, 1117, 1132, 1133, 1135, 1158, 1166, 1178, 1189, 1193, 1198, 1209, 1231, 1257, 1283, 1289, 1295, 1306, 1319, 1336, 1337, 1386, 1388, 1394, 1397, 1406, 1412, 1415, 1421, 1448, 1457, 1463, 1511, 1521, 1572, 1575, 1592, 1602, 1639, 1675, 1680, 1699, 1706, 1708, 1736, 1752, 1767, 1799, 1808, 1820, 1836, 1860, 1871, 1885, 1886, 1888, 1889, 1923, 1937, 1956, 1957, 1982, 1984, 2017, 2025, 2030, 2052, 2054, 2083, 2136, 2145, 2146, 2163, 2166, 2180, 2185, 2208, 2216, 2232, 2233, 2241, 2248, 2263, 2272, 2291, 2302, 2308, 2337, 2341, 2347, 2368, 2386, 2394, 2397, 2432, 2434, 2440, 2521, 2578, 2600, 2605, 2628]\n"
     ]
    }
   ],
   "source": [
    "print(roman_coins)"
   ]
  },
  {
   "cell_type": "code",
   "execution_count": 35,
   "metadata": {},
   "outputs": [],
   "source": [
    "y_train = []\n",
    "y_test = []\n",
    "test_limit = len(X_train)\n",
    "for i, data in enumerate(X_train):\n",
    "    if i in roman_coins:\n",
    "        y_train += [1]\n",
    "    else:\n",
    "        y_train += [0]\n",
    "\n",
    "for i, data in enumerate(X_test):\n",
    "    if i + test_limit in roman_coins:\n",
    "        y_test += [1]\n",
    "    else:\n",
    "        y_test += [0]"
   ]
  },
  {
   "cell_type": "code",
   "execution_count": 43,
   "metadata": {},
   "outputs": [
    {
     "name": "stdout",
     "output_type": "stream",
     "text": [
      "2366\n",
      "263\n"
     ]
    }
   ],
   "source": [
    "print(len(y_train))\n",
    "print(len(y_test))"
   ]
  },
  {
   "cell_type": "code",
   "execution_count": null,
   "metadata": {},
   "outputs": [],
   "source": []
  }
 ],
 "metadata": {
  "kernelspec": {
   "display_name": "Python 3",
   "language": "python",
   "name": "python3"
  },
  "language_info": {
   "codemirror_mode": {
    "name": "ipython",
    "version": 3
   },
   "file_extension": ".py",
   "mimetype": "text/x-python",
   "name": "python",
   "nbconvert_exporter": "python",
   "pygments_lexer": "ipython3",
   "version": "3.6.3"
  }
 },
 "nbformat": 4,
 "nbformat_minor": 2
}
