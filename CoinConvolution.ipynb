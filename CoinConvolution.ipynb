{
 "cells": [
  {
   "cell_type": "code",
   "execution_count": 1,
   "metadata": {},
   "outputs": [],
   "source": [
    "import os\n",
    "import cv2\n",
    "import imutils\n",
    "import numpy as np\n",
    "from random import shuffle\n",
    "import h5py\n",
    "from pathlib import Path\n"
   ]
  },
  {
   "cell_type": "code",
   "execution_count": 2,
   "metadata": {},
   "outputs": [],
   "source": [
    "imageSize = 128\n",
    "\n",
    "def save():\n",
    "    roman_coins = []\n",
    "    files = os.listdir(\"dataset/\")\n",
    "    files = [file for file in files if file.endswith(\".png\")]\n",
    "    shuffle(files)\n",
    "    X = []\n",
    "    for i, file in enumerate(files):\n",
    "        if(file.startswith('class')):\n",
    "            roman_coins += [i]\n",
    "        print(\"Adding file {}/{}\".format(i, len(files)))\n",
    "        #img = cv2.imread(\"Rotated/\" + file, -1)\n",
    "        img = cv2.imread(\"dataset/\" + file, -1)\n",
    "\n",
    "        # Convert grayscale to RGB\n",
    "        if len(img.shape) == 2:\n",
    "            img = cv2.cvtColor(img, cv2.COLOR_GRAY2BGR)\n",
    "\n",
    "        # Resize to desired size and normalize\n",
    "        img = cv2.resize(img, (imageSize, imageSize))\n",
    "        img = img.astype(float) / 255.\n",
    "        X.append(img)\n",
    "\n",
    "    # Convert to numpy array\n",
    "    X = np.array(X)\n",
    "\n",
    "    # 10% for testing\n",
    "    testProportion = 0.1\n",
    "    trainNb = int(X.shape[0] * (1 - testProportion))\n",
    "    testNb = X.shape[0] - trainNb\n",
    "\n",
    "    print(\"Splitting dataset in X_train({}) and X_test({})...\".format(trainNb, testNb))\n",
    "    # Split train test\n",
    "    X_train = X[:trainNb]\n",
    "    X_test = X[-testNb:]\n",
    "\n",
    "    print(len(X_train))\n",
    "\n",
    "    # Save at hdf5 format\n",
    "    \"Saving dataset in hdf5 format... - this may take a while\"\n",
    "    h5f = h5py.File(\"coins.h5\", 'w')\n",
    "    h5f.create_dataset('X_train', data=X_train)\n",
    "    h5f.create_dataset('X_test', data=X_test)\n",
    "    h5f.create_dataset('roman_coins', data=roman_coins)\n",
    "    h5f.close()"
   ]
  },
  {
   "cell_type": "code",
   "execution_count": 4,
   "metadata": {},
   "outputs": [],
   "source": [
    "file = Path(\"coins.h5\")\n",
    "if not file.is_file():\n",
    "    save()\n",
    "X_test = h5py.File('coins.h5','r')['X_test']\n",
    "X_train = h5py.File('coins.h5','r')['X_train']\n",
    "coins_index = h5py.File('coins.h5','r')['roman_coins']"
   ]
  },
  {
   "cell_type": "code",
   "execution_count": 5,
   "metadata": {},
   "outputs": [],
   "source": [
    "roman_coins = []\n",
    "for i in coins_index:\n",
    "    roman_coins += [i]"
   ]
  },
  {
   "cell_type": "code",
   "execution_count": 6,
   "metadata": {},
   "outputs": [
    {
     "name": "stdout",
     "output_type": "stream",
     "text": [
      "[28, 31, 45, 63, 70, 71, 72, 77, 89, 115, 124, 139, 145, 172, 198, 207, 208, 214, 220, 245, 257, 306, 313, 326, 343, 347, 349, 355, 375, 377, 385, 396, 407, 409, 421, 451, 453, 456, 464, 489, 496, 507, 508, 529, 533, 536, 565, 570, 572, 584, 649, 676, 688, 698, 705, 720, 721, 723, 767, 770, 799, 810, 814, 822, 834, 857, 866, 870, 875, 884, 936, 988, 1008, 1012, 1016, 1017, 1043, 1044, 1064, 1070, 1113, 1150, 1151, 1184, 1203, 1206, 1216, 1217, 1218, 1224, 1232, 1268, 1276, 1297, 1305, 1306, 1323, 1346, 1355, 1358, 1366, 1415, 1428, 1434, 1451, 1452, 1491, 1495, 1497, 1524, 1534, 1544, 1564, 1572, 1595, 1627, 1640, 1652, 1682, 1774, 1775, 1783, 1796, 1800, 1823, 1827, 1832, 1846, 1855, 1869, 1915, 1931, 1952, 1957, 1963, 1968, 1971, 1974, 1990, 1992, 1994, 1998, 2014, 2025, 2075, 2088, 2104, 2137, 2139, 2226, 2230, 2239, 2279, 2283, 2284, 2285, 2315, 2317, 2345, 2370, 2376, 2405, 2413, 2439, 2441, 2447, 2491, 2506, 2509, 2523, 2531, 2541, 2549, 2559, 2561, 2584, 2587, 2601, 2603, 2608]\n"
     ]
    }
   ],
   "source": [
    "print(roman_coins)"
   ]
  },
  {
   "cell_type": "code",
   "execution_count": 7,
   "metadata": {},
   "outputs": [],
   "source": [
    "y_train = []\n",
    "y_test = []\n",
    "test_limit = len(X_train)\n",
    "for i, data in enumerate(X_train):\n",
    "    if i in roman_coins:\n",
    "        y_train += [1]\n",
    "    else:\n",
    "        y_train += [0]\n",
    "\n",
    "for i, data in enumerate(X_test):\n",
    "    if i + test_limit in roman_coins:\n",
    "        y_test += [1]\n",
    "    else:\n",
    "        y_test += [0]"
   ]
  }
 ],
 "metadata": {
  "kernelspec": {
   "display_name": "Python 3",
   "language": "python",
   "name": "python3"
  },
  "language_info": {
   "codemirror_mode": {
    "name": "ipython",
    "version": 3
   },
   "file_extension": ".py",
   "mimetype": "text/x-python",
   "name": "python",
   "nbconvert_exporter": "python",
   "pygments_lexer": "ipython3",
   "version": "3.6.3"
  }
 },
 "nbformat": 4,
 "nbformat_minor": 2
}
